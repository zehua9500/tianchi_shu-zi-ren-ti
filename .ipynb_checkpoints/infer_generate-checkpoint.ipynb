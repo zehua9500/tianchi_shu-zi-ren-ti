{
 "cells": [
  {
   "cell_type": "code",
   "execution_count": 1,
   "metadata": {},
   "outputs": [],
   "source": [
    "# 1阶段 预测\n",
    "# 用于 retinanet\n",
    "# 后续已改faster rcnn 不再使用此代码\n",
    "\n",
    "import kfbReader as kr\n",
    "import torch\n",
    "import torchvision\n",
    "import cv2\n",
    "import numpy as np\n",
    "import pandas as pd\n",
    "import os\n",
    "import time\n",
    "import random\n",
    "import copy\n",
    "from Data_PreProcess import Data_preprocess as dp\n",
    "import json\n",
    "from data_loader import DataGenerate,collate\n",
    "from torch.utils.data import Dataset, DataLoader\n",
    "from Generate_Anchor import Generate_Anchor\n",
    "from torchvision import models\n",
    "from Eval import eval_model\n",
    "from Net3 import Net"
   ]
  },
  {
   "cell_type": "code",
   "execution_count": null,
   "metadata": {},
   "outputs": [],
   "source": [
    "data_path = r\"E:\\cancer\\neg_1\"\n",
    "datalist = os.listdir(data_path)\n",
    "\n",
    "input_size = 2560\n",
    "prior_anchor = get_prior_anchor(input_size = input_size)\n",
    "with torch.no_grad():\n",
    "    for idx,dat_name in enumerate(datalist):\n",
    "        start = time.time()\n",
    "        reader = kr.reader()\n",
    "        reader.ReadInfo(os.path.join(data_path, dat_name),20,True)\n",
    "        width = reader.getWidth() - input_size\n",
    "        height = reader.getHeight() - input_size\n",
    "        js = []\n",
    "        for h in range(0,height,input_size):  #后续改成 d = self.input_size/2 \n",
    "            for w in range(0,width,input_size):\n",
    "                #cv2.waitKey(100)\n",
    "                img = reader.ReadRoi(w,h,input_size,input_size,20)\n",
    "                img = img.transpose(2,0,1)[np.newaxis,]\n",
    "                img = torch.from_numpy(img).cuda().float()\n",
    "                pred_cls,pred_loc = model(img)\n",
    "                index = pred_cls>0.9\n",
    "                if (torch.sum(index) > 0) and (torch.sum(index) < 2000):\n",
    "                    scores = pred_cls[index]\n",
    "                    pred_loc = pred_loc[index]\n",
    "                    src_anchor = prior_anchor[index]\n",
    "                    x = pred_loc[:,0] * src_anchor[:,2] + src_anchor[:,0] + w\n",
    "                    y = pred_loc[:,1] * src_anchor[:,3] + src_anchor[:,1] + h\n",
    "                    _w = torch.exp(pred_loc[:,2]) * src_anchor[:,2]\n",
    "                    _h = torch.exp(pred_loc[:,3]) * src_anchor[:,3]\n",
    "                    pred = torch.stack((x,y,_w,_h,scores),axis=1).detach().cpu().numpy()\n",
    "                    pred = np.clip(pred,0,None)\n",
    "                    pred[:,2:4] += pred[:,:2]\n",
    "                    index = dp.py_cpu_nms(pred)\n",
    "                    bboxs = pred[index].astype(np.float)\n",
    "                    bboxs[:,2:4] -= bboxs[:,:2]\n",
    "                    for th in range(bboxs.shape[0]):\n",
    "                        bbox = bboxs[th]\n",
    "                        js.append({\"x\":bbox[0], \"y\":bbox[1], \"w\":bbox[2], \"h\":bbox[3], \"p\":bbox[4]})\n",
    "        with open(r\"E:\\cancer\\neg_label\\neg_label_1\\%s.json\"%dat_name[:-4],'w') as f:\n",
    "            json.dump(js,f)\n",
    "        print(\"No%d process, time = %.3f\"%(idx, time.time() - start))"
   ]
  }
 ],
 "metadata": {
  "kernelspec": {
   "display_name": "Python 3",
   "language": "python",
   "name": "python3"
  },
  "language_info": {
   "codemirror_mode": {
    "name": "ipython",
    "version": 3
   },
   "file_extension": ".py",
   "mimetype": "text/x-python",
   "name": "python",
   "nbconvert_exporter": "python",
   "pygments_lexer": "ipython3",
   "version": "3.7.4"
  }
 },
 "nbformat": 4,
 "nbformat_minor": 2
}
