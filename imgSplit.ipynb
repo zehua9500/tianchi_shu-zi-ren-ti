{
 "cells": [
  {
   "cell_type": "code",
   "execution_count": 1,
   "metadata": {},
   "outputs": [],
   "source": [
    "import cv2\n",
    "import numpy as np\n",
    "import pandas as pd\n",
    "import os\n",
    "import time\n",
    "import random\n",
    "import sys\n",
    "sys.path.append(r\"C:\\Users\\Administrator\\Desktop\\utils\\utils\\venv\")\n",
    "sys.path.append(r\"E:\\cancer\\kfbreader\\kfbreader\\Kfbreader-win10-python37\")\n",
    "from Data_PreProcess import Data_preprocess as dp\n",
    "import kfbReader as kr\n",
    "import json"
   ]
  },
  {
   "cell_type": "code",
   "execution_count": 3,
   "metadata": {},
   "outputs": [],
   "source": [
    "def json_reset(js):\n",
    "    def include(roi,pos):\n",
    "        return (pos[\"x\"] > roi[\"x\"]) and (pos[\"y\"] > roi[\"y\"]) and (pos[\"x\"] + pos[\"w\"] < roi[\"x\"] + roi[\"w\"]) and (pos[\"y\"] + pos[\"h\"] < roi[\"y\"] + roi[\"h\"])\n",
    "    \n",
    "    rois = []\n",
    "    for info in js:\n",
    "        if info[\"class\"] == \"roi\":rois.append(info)\n",
    "    pos = [[] for _ in range(len(rois))]\n",
    "    \n",
    "    for info in js:\n",
    "        if info[\"class\"] == \"roi\":continue\n",
    "        flag = True\n",
    "        for idx,roi in enumerate(rois):\n",
    "            if include(roi, info):\n",
    "                pos[idx].append(info)\n",
    "                flag = False\n",
    "        if(flag):print(\"error\")\n",
    "                \n",
    "    newJs = []\n",
    "    for idx,roi in enumerate(rois):\n",
    "        newJs.append(roi)\n",
    "        newJs += pos[idx]\n",
    "    return newJs"
   ]
  },
  {
   "cell_type": "code",
   "execution_count": 20,
   "metadata": {},
   "outputs": [
    {
     "data": {
      "text/plain": [
       "5497.765039003796"
      ]
     },
     "execution_count": 20,
     "metadata": {},
     "output_type": "execute_result"
    }
   ],
   "source": [
    "roi_area_mean"
   ]
  },
  {
   "cell_type": "code",
   "execution_count": 21,
   "metadata": {},
   "outputs": [
    {
     "data": {
      "text/plain": [
       "5.359550561797753"
      ]
     },
     "execution_count": 21,
     "metadata": {},
     "output_type": "execute_result"
    }
   ],
   "source": [
    "pos_nums_per_roi"
   ]
  },
  {
   "cell_type": "code",
   "execution_count": 4,
   "metadata": {},
   "outputs": [],
   "source": [
    "def split(target):\n",
    "    labelPath = r\"E:\\cancer\\labels\"\n",
    "    targetFold = r\"E:\\cancer\\pos_%s\"%target\n",
    "    savePath = r\"E:\\cancer\\train_data\"\n",
    "\n",
    "    datList = os.listdir(targetFold)\n",
    "    #datList = [\"T2019_53.kfb\"]\n",
    "    groundTruth = pd.DataFrame(columns=[\"filename\", \"x\", \"y\", \"w\", \"h\"])\n",
    "    imgInfo = pd.DataFrame(columns=[\"filename\", \"w\", \"h\"])\n",
    "    for dat in datList:\n",
    "        reader = kr.reader()\n",
    "        reader.ReadInfo(os.path.join(targetFold, dat),20,True)\n",
    "        with open(os.path.join(labelPath, dat[:-4] + \".json\"),'r') as f:\n",
    "            label = json.load(f)\n",
    "        label = json_reset(label)\n",
    "        count = 0\n",
    "        for idx,info in enumerate(label):\n",
    "            if info[\"class\"] == \"roi\":\n",
    "                x = info[\"x\"]\n",
    "                y = info[\"y\"]\n",
    "                count += 1\n",
    "                imgname = dat[:-4] + \"_\" + str(count) + \".jpg\"\n",
    "                img = reader.ReadRoi(x,y,info[\"w\"],info[\"h\"],20)\n",
    "                imgInfo = imgInfo.append({\"filename\":imgname, \"w\":info[\"w\"], \"h\":info[\"h\"]},ignore_index=True)\n",
    "                cv2.imwrite(os.path.join(savePath, imgname),img)\n",
    "            elif info[\"class\"] == \"pos\":\n",
    "                if(info[\"x\"]<x):print(dat)\n",
    "                groundTruth = groundTruth.append({\"filename\":imgname, \"x\":info[\"x\"] - x, \"y\":info[\"y\"] - y, \"w\":info[\"w\"], \"h\":info[\"h\"]},ignore_index=True)\n",
    "    imgInfo[\"ratio\"] = imgInfo[\"w\"]/imgInfo[\"h\"]\n",
    "    imgInfo.to_csv(os.path.join(r\"E:\\cancer\\imglabel\\imginfo\", str(target) +\"_info.csv\"),index=False)\n",
    "\n",
    "    groundTruth[\"w\"] += groundTruth[\"x\"]\n",
    "    groundTruth[\"h\"] += groundTruth[\"y\"]\n",
    "    groundTruth.columns = [\"filename\",\"x1\",\"y1\",\"x2\",\"y2\"]\n",
    "    groundTruth.to_csv(os.path.join(r\"E:\\cancer\\imglabel\\groundTruth\", str(target) +\"_gt.csv\"),index=False)"
   ]
  },
  {
   "cell_type": "code",
   "execution_count": 7,
   "metadata": {},
   "outputs": [],
   "source": [
    "#split(9)"
   ]
  },
  {
   "cell_type": "code",
   "execution_count": null,
   "metadata": {},
   "outputs": [],
   "source": []
  },
  {
   "cell_type": "code",
   "execution_count": null,
   "metadata": {},
   "outputs": [],
   "source": [
    "#def split(target):\n",
    "labelPath = r\"E:\\cancer\\labels\"\n",
    "labelList = os.listdir(labelPath)\n",
    "roi_area = []\n",
    "roi_w = []\n",
    "roi_h = []\n",
    "pos_nums_per_roi = []\n",
    "pos_area = []\n",
    "pos_h, pos_w = [], []\n",
    "pos_num = 0\n",
    "for dat in labelList:\n",
    "    with open(os.path.join(labelPath, dat),'r') as f:\n",
    "        label = json.load(f)\n",
    "    label = json_reset(label)\n",
    "    for idx,info in enumerate(label):\n",
    "        if info[\"class\"] == \"roi\":\n",
    "            roi_area.append(info[\"w\"] * info[\"h\"])\n",
    "            roi_h.append(info[\"h\"])\n",
    "            roi_w.append(info[\"w\"])\n",
    "\n",
    "            if idx>0:\n",
    "                pos_nums_per_roi.append(pos_num)\n",
    "            pos_num = 0\n",
    "        elif info[\"class\"] == \"pos\":\n",
    "            pos_area.append(info[\"w\"] * info[\"h\"])\n",
    "            pos_h.append(info[\"h\"])\n",
    "            pos_w.append(info[\"w\"])\n",
    "            pos_num += 1\n",
    "roi_area_mean = np.sqrt(np.mean(roi_area))\n",
    "roi_h_mean = np.mean(roi_h)\n",
    "roi_w_mean = np.mean(roi_w)\n",
    "pos_area_mean = np.sqrt(np.mean(pos_area))\n",
    "pos_h_mean = np.mean(pos_h)\n",
    "pos_w_mean = np.mean(pos_w)\n",
    "pos_nums_per_roi = np.mean(pos_nums_per_roi)"
   ]
  }
 ],
 "metadata": {
  "kernelspec": {
   "display_name": "Python 3",
   "language": "python",
   "name": "python3"
  },
  "language_info": {
   "codemirror_mode": {
    "name": "ipython",
    "version": 3
   },
   "file_extension": ".py",
   "mimetype": "text/x-python",
   "name": "python",
   "nbconvert_exporter": "python",
   "pygments_lexer": "ipython3",
   "version": "3.7.3"
  }
 },
 "nbformat": 4,
 "nbformat_minor": 2
}
