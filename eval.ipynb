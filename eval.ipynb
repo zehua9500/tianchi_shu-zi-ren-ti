{
 "cells": [
  {
   "cell_type": "code",
   "execution_count": 1,
   "metadata": {},
   "outputs": [
    {
     "name": "stdout",
     "output_type": "stream",
     "text": [
      "load\n"
     ]
    }
   ],
   "source": [
    "import torch\n",
    "import os\n",
    "import cv2\n",
    "import random\n",
    "import numpy as np\n",
    "from torch.utils.data import Dataset, DataLoader\n",
    "import pandas as pd\n",
    "import copy\n",
    "from Data_PreProcess import Data_preprocess as dp\n",
    "import kfbReader as kr\n",
    "from Net import Net\n",
    "from Generate_Anchor import generate_prior_anchor, get_prior_anchor\n",
    "prior_anchor = get_prior_anchor()\n",
    "import json\n",
    "import time\n",
    "model = Net()\n",
    "model.load_state_dict(torch.load(r\"E:\\cancer\\model\\temp\\eps=2.t7\"),strict = False)\n",
    "model = model.cuda()\n",
    "model.eval()\n",
    "print(\"load\")"
   ]
  },
  {
   "cell_type": "code",
   "execution_count": null,
   "metadata": {},
   "outputs": [],
   "source": [
    "data_path = r\"E:\\cancer\\train_data\"\n",
    "gt = pd.read_csv(r\"E:\\cancer\\imglabel\\val\\3_gt.csv\",index_col=0)\n",
    "datalist = list(gt.index)\n",
    "label = dp.get_gt(gt)\n",
    "input_size = 1024\n",
    "model.eval()\n",
    "TP = []\n",
    "FP = []\n",
    "FN = []\n",
    "with torch.no_grad():\n",
    "    for idx,dat_name in enumerate(datalist):\n",
    "        start = time.time()\n",
    "        src_img = cv2.imread(os.path.join(data_path, dat_name))\n",
    "        height, width = src_img.shape[:2]\n",
    "        ans = []\n",
    "        for h in range(0,height,input_size):  #后续改成 d = self.input_size/2 \n",
    "            h = h if h+input_size < height else height - input_size\n",
    "            for w in range(0,width,input_size):\n",
    "                w = w if w+input_size < width else width - input_size\n",
    "                #img = reader.ReadRoi(w,h,input_size,input_size,20)\n",
    "                img = src_img[h:h+input_size, w:w+input_size]\n",
    "                img = img.transpose(2,0,1)[np.newaxis,]\n",
    "                img = torch.from_numpy(img).cuda().float()\n",
    "                pred_cls,pred_loc = model(img)\n",
    "                index = pred_cls>0.5\n",
    "                if torch.sum(index) > 0:\n",
    "                    scores = pred_cls[index]\n",
    "                    pred_loc = pred_loc[index]\n",
    "                    src_anchor = prior_anchor[index]\n",
    "                    x = pred_loc[:,0] * src_anchor[:,2] + src_anchor[:,0] + w\n",
    "                    y = pred_loc[:,1] * src_anchor[:,3] + src_anchor[:,1] + h\n",
    "                    _w = torch.exp(pred_loc[:,2]) * src_anchor[:,2]\n",
    "                    _h = torch.exp(pred_loc[:,3]) * src_anchor[:,3]\n",
    "                    pred = torch.stack((x,y,_w,_h,scores),axis=1).detach().cpu().numpy()\n",
    "                    pred = np.clip(pred,0,None)\n",
    "                    index = dp.nms(pred)\n",
    "                    bboxs = pred[index].astype(np.float)\n",
    "                    ans.append(bboxs)\n",
    "        if len(ans)==0:continue\n",
    "        ans = np.vstack(ans)\n",
    "        tp,fp,fn = dp.AP(ans, label[dat_name])\n",
    "        TP.append(tp)\n",
    "        FP.append(fp)\n",
    "        FN.append(fn)\n",
    "print(\"final\")"
   ]
  }
 ],
 "metadata": {
  "kernelspec": {
   "display_name": "Python 3",
   "language": "python",
   "name": "python3"
  },
  "language_info": {
   "codemirror_mode": {
    "name": "ipython",
    "version": 3
   },
   "file_extension": ".py",
   "mimetype": "text/x-python",
   "name": "python",
   "nbconvert_exporter": "python",
   "pygments_lexer": "ipython3",
   "version": "3.7.3"
  }
 },
 "nbformat": 4,
 "nbformat_minor": 2
}
